{
 "cells": [
  {
   "cell_type": "markdown",
   "metadata": {},
   "source": [
    "# EDGAR API\n",
    "\n",
    "## Description \n",
    "\n",
    "The below code is used to query the EDGAR API and gather 20 years of balance sheet, income statement, and cash flow data for companies listed in the Wilshire 5000 Index. <br>"
   ]
  },
  {
   "cell_type": "markdown",
   "metadata": {},
   "source": [
    "## Data Gathering and Prep"
   ]
  },
  {
   "cell_type": "code",
   "execution_count": 38,
   "metadata": {},
   "outputs": [],
   "source": [
    "# Import packages\n",
    "import pandas as pd\n",
    "import requests\n",
    "from ipynb.fs.full.Preprocessing_Functions import *"
   ]
  },
  {
   "cell_type": "code",
   "execution_count": 67,
   "metadata": {},
   "outputs": [
    {
     "name": "stdout",
     "output_type": "stream",
     "text": [
      "\n",
      "\n",
      "<class 'pandas.core.frame.DataFrame'>\n",
      "RangeIndex: 3221 entries, 0 to 3220\n",
      "Data columns (total 2 columns):\n",
      " #   Column  Non-Null Count  Dtype \n",
      "---  ------  --------------  ----- \n",
      " 0   Ticker  3221 non-null   object\n",
      " 1   Name    3221 non-null   object\n",
      "dtypes: object(2)\n",
      "memory usage: 50.5+ KB\n"
     ]
    },
    {
     "data": {
      "text/html": [
       "<div>\n",
       "<style scoped>\n",
       "    .dataframe tbody tr th:only-of-type {\n",
       "        vertical-align: middle;\n",
       "    }\n",
       "\n",
       "    .dataframe tbody tr th {\n",
       "        vertical-align: top;\n",
       "    }\n",
       "\n",
       "    .dataframe thead th {\n",
       "        text-align: right;\n",
       "    }\n",
       "</style>\n",
       "<table border=\"1\" class=\"dataframe\">\n",
       "  <thead>\n",
       "    <tr style=\"text-align: right;\">\n",
       "      <th></th>\n",
       "      <th>Ticker</th>\n",
       "      <th>Name</th>\n",
       "    </tr>\n",
       "  </thead>\n",
       "  <tbody>\n",
       "    <tr>\n",
       "      <th>0</th>\n",
       "      <td>A</td>\n",
       "      <td>Agilent Technologies Inc.</td>\n",
       "    </tr>\n",
       "    <tr>\n",
       "      <th>1</th>\n",
       "      <td>AA</td>\n",
       "      <td>Alcoa Corp</td>\n",
       "    </tr>\n",
       "    <tr>\n",
       "      <th>2</th>\n",
       "      <td>AAL</td>\n",
       "      <td>American Airlines Group Inc</td>\n",
       "    </tr>\n",
       "    <tr>\n",
       "      <th>3</th>\n",
       "      <td>AAME</td>\n",
       "      <td>Atlantic American Corp.</td>\n",
       "    </tr>\n",
       "    <tr>\n",
       "      <th>4</th>\n",
       "      <td>AAN</td>\n",
       "      <td>Aarons Company Inc (The)</td>\n",
       "    </tr>\n",
       "  </tbody>\n",
       "</table>\n",
       "</div>"
      ],
      "text/plain": [
       "  Ticker                         Name\n",
       "0      A    Agilent Technologies Inc.\n",
       "1     AA                   Alcoa Corp\n",
       "2    AAL  American Airlines Group Inc\n",
       "3   AAME      Atlantic American Corp.\n",
       "4    AAN     Aarons Company Inc (The)"
      ]
     },
     "execution_count": 67,
     "metadata": {},
     "output_type": "execute_result"
    }
   ],
   "source": [
    "# Import S&P 500 Index data frame\n",
    "wil_df = pd.read_csv(\"Data/Wilshire_5000_All_Holdings.csv\")\n",
    "# Reorder columns\n",
    "wil_df = wil_df[[\"Ticker\",\"Name\"]]\n",
    "\n",
    "# List of company ticker symbols\n",
    "ticker = wil_df['Ticker']\n",
    "# list of company names\n",
    "name = wil_df['Name']\n",
    "\n",
    "# Check data Summary\n",
    "print('\\n')\n",
    "wil_df.info()\n",
    "wil_df.head()"
   ]
  },
  {
   "cell_type": "markdown",
   "metadata": {},
   "source": [
    "A data frame consisting of the stock tickers and their company names listed in the Wilshire 5000 Index is imported.<br>"
   ]
  },
  {
   "cell_type": "markdown",
   "metadata": {},
   "source": [
    "### API Check Functions"
   ]
  },
  {
   "cell_type": "code",
   "execution_count": 35,
   "metadata": {},
   "outputs": [],
   "source": [
    "# EDGAR API key and guide\n",
    "# key : fb1243ed5400fc7c2a39dba8a1df73d6 , User Guide : https://developer.edgar-online.com/live\n",
    "appkey = 'fb1243ed5400fc7c2a39dba8a1df73d6'\n",
    "\n",
    "# Function to check for company compatibility with the EDGAR API BalanceSheetConsolidated\n",
    "def check_company(stock):\n",
    "    \n",
    "    # API url\n",
    "    url = \"https://datafied.api.edgar-online.com/v2/corefinancials/ann\"\n",
    "    # Query perameteres\n",
    "    query = {\"appkey\": appkey,\n",
    "             \"fields\": \"BalanceSheetConsolidated\",\n",
    "             \"primarysymbols\": stock,\n",
    "             \"numperiods\": \"20\",}\n",
    "\n",
    "    response = requests.get(url, query)\n",
    "    data = response.json()\n",
    "    data = data[\"result\"]\n",
    "    data = data[\"rows\"]\n",
    "    data = [x[\"values\"] for x in data]\n",
    "    \n",
    "    return data"
   ]
  },
  {
   "cell_type": "code",
   "execution_count": 41,
   "metadata": {},
   "outputs": [],
   "source": [
    "# EDGAR API key and guide\n",
    "# key : fb1243ed5400fc7c2a39dba8a1df73d6 , User Guide : https://developer.edgar-online.com/live\n",
    "appkey = 'fb1243ed5400fc7c2a39dba8a1df73d6'\n",
    "\n",
    "# Function to check for company compatibility with the EDGAR API IncomeStatementConsolidated\n",
    "def check_company_in(stock):\n",
    "    \n",
    "    # API url\n",
    "    url = \"https://datafied.api.edgar-online.com/v2/corefinancials/ann\"\n",
    "    # Query perameteres\n",
    "    query = {\"appkey\": appkey,\n",
    "             \"fields\": \"IncomeStatementConsolidated\",\n",
    "             \"primarysymbols\": stock,\n",
    "             \"numperiods\": \"20\",}\n",
    "\n",
    "    response = requests.get(url, query)\n",
    "    data = response.json()\n",
    "    data = data[\"result\"]\n",
    "    data = data[\"rows\"]\n",
    "    data = [x[\"values\"] for x in data]\n",
    "    \n",
    "    return data"
   ]
  },
  {
   "cell_type": "code",
   "execution_count": 6,
   "metadata": {},
   "outputs": [],
   "source": [
    "# Function to check for company compatibility with the EDGAR API CashFlowStatementConsolidated\n",
    "def check_company_cf(stock):\n",
    "    \n",
    "    # API url\n",
    "    url = \"https://datafied.api.edgar-online.com/v2/corefinancials/ann\"\n",
    "    # Query perameteres\n",
    "    query = {\"appkey\": appkey,\n",
    "             \"fields\": \"CashFlowStatementConsolidated\",\n",
    "             \"primarysymbols\": stock,\n",
    "             \"numperiods\": \"20\",}\n",
    "\n",
    "    response = requests.get(url, query)\n",
    "    data = response.json()\n",
    "    data = data[\"result\"]\n",
    "    data = data[\"rows\"]\n",
    "    data = [x[\"values\"] for x in data]\n",
    "    \n",
    "    return data"
   ]
  },
  {
   "cell_type": "markdown",
   "metadata": {},
   "source": [
    "Functions used to query the EDGAR API and check whether an inputted stock ticker is in the EDGAR database. <br>"
   ]
  },
  {
   "cell_type": "markdown",
   "metadata": {},
   "source": [
    "### API Check Loops"
   ]
  },
  {
   "cell_type": "code",
   "execution_count": 7,
   "metadata": {},
   "outputs": [
    {
     "data": {
      "application/vnd.jupyter.widget-view+json": {
       "model_id": "5191bcd3acdf4b82b45ff746795f45d5",
       "version_major": 2,
       "version_minor": 0
      },
      "text/plain": [
       "VBox(children=(HTML(value=''), IntProgress(value=0, max=3221)))"
      ]
     },
     "metadata": {},
     "output_type": "display_data"
    }
   ],
   "source": [
    "# Set loop to loop 3,221 times\n",
    "tickers = wil_df['Ticker'].tolist()\n",
    "\n",
    "# List of tickers that are compatable to query for using the EDGAR API\n",
    "searchable_tickers = []\n",
    "# List of tickers that are not compatable to query for using the EDGAR API\n",
    "non_searchable_tickers = []\n",
    "\n",
    "# loop to create above lists\n",
    "for ticker in log_progress(tickers):\n",
    "    result = check_company(ticker)\n",
    "    if len(result) == 0:\n",
    "        non_searchable_tickers.append(ticker)\n",
    "        \n",
    "    else:\n",
    "        searchable_tickers.append(ticker)"
   ]
  },
  {
   "cell_type": "code",
   "execution_count": 8,
   "metadata": {},
   "outputs": [],
   "source": [
    "# Save search results as data frames\n",
    "searchable_tickers_data = pd.DataFrame(searchable_tickers, columns = ['tickers'])\n",
    "searchable_tickers_data.to_csv('Data/Data/searchable_tickers_data.csv')\n",
    "non_searchable_tickers_data = pd.DataFrame(non_searchable_tickers, columns = ['tickers'])\n",
    "non_searchable_tickers_data.to_csv('Data/Data/non_searchable_tickers_data.csv')"
   ]
  },
  {
   "cell_type": "code",
   "execution_count": 42,
   "metadata": {},
   "outputs": [
    {
     "data": {
      "application/vnd.jupyter.widget-view+json": {
       "model_id": "fbf8d634b93546b684544d63394bfc1c",
       "version_major": 2,
       "version_minor": 0
      },
      "text/plain": [
       "VBox(children=(HTML(value=''), IntProgress(value=0, max=3221)))"
      ]
     },
     "metadata": {},
     "output_type": "display_data"
    }
   ],
   "source": [
    "# Set loop to loop 3,221 times\n",
    "tickers = wil_df['Ticker'].tolist()\n",
    "\n",
    "# List of tickers that are compatable to query for using the EDGAR API\n",
    "searchable_tickers_in = []\n",
    "# List of tickers that are not compatable to query for using the EDGAR API\n",
    "non_searchable_tickers_in = []\n",
    "\n",
    "# loop to create above lists\n",
    "for ticker in log_progress(tickers):\n",
    "    result = check_company_in(ticker)\n",
    "    if len(result) == 0:\n",
    "        non_searchable_tickers_in.append(ticker)\n",
    "        \n",
    "    else:\n",
    "        searchable_tickers_in.append(ticker)"
   ]
  },
  {
   "cell_type": "code",
   "execution_count": 43,
   "metadata": {},
   "outputs": [],
   "source": [
    "# Save search results as data frames\n",
    "searchable_tickers_in_data = pd.DataFrame(searchable_tickers_in, columns = ['tickers'])\n",
    "searchable_tickers_in_data.to_csv('Data/Data/searchable_tickers_in_data.csv')\n",
    "non_searchable_tickers_in_data = pd.DataFrame(non_searchable_tickers_in, columns = ['tickers'])\n",
    "non_searchable_tickers_in_data.to_csv('Data/Data/non_searchable_tickers_in_data.csv')"
   ]
  },
  {
   "cell_type": "code",
   "execution_count": 9,
   "metadata": {},
   "outputs": [
    {
     "data": {
      "application/vnd.jupyter.widget-view+json": {
       "model_id": "43ff751e2866404a8673dded58a4b87e",
       "version_major": 2,
       "version_minor": 0
      },
      "text/plain": [
       "VBox(children=(HTML(value=''), IntProgress(value=0, max=3221)))"
      ]
     },
     "metadata": {},
     "output_type": "display_data"
    }
   ],
   "source": [
    "# Set loop to loop 3,221 times\n",
    "tickers = wil_df['Ticker'].tolist()\n",
    "\n",
    "# List of tickers that are compatable to query for using the EDGAR API\n",
    "searchable_tickers_cf = []\n",
    "# List of tickers that are not compatable to query for using the EDGAR API\n",
    "non_searchable_tickers_cf = []\n",
    "\n",
    "# loop to create above lists\n",
    "for ticker in log_progress(tickers):\n",
    "    result = check_company_cf(ticker)\n",
    "    if len(result) == 0:\n",
    "        non_searchable_tickers_cf.append(ticker)\n",
    "        \n",
    "    else:\n",
    "        searchable_tickers_cf.append(ticker)"
   ]
  },
  {
   "cell_type": "code",
   "execution_count": 10,
   "metadata": {},
   "outputs": [],
   "source": [
    "# Save search results as data frames\n",
    "searchable_tickers_cf_data = pd.DataFrame(searchable_tickers_cf, columns = ['tickers'])\n",
    "searchable_tickers_cf_data.to_csv('Data/Data/searchable_tickers_cf_data.csv')\n",
    "non_searchable_tickers_cf_data = pd.DataFrame(non_searchable_tickers_cf, columns = ['tickers'])\n",
    "non_searchable_tickers_cf_data.to_csv('Data/Data/non_searchable_tickers_cf_data.csv')"
   ]
  },
  {
   "cell_type": "markdown",
   "metadata": {},
   "source": [
    "For loops are used to generate lists of searchable stock tickers. <br>\n",
    "Having a list of searchable stock tickers will help to query company data uninterrupted. <br>"
   ]
  },
  {
   "cell_type": "code",
   "execution_count": 45,
   "metadata": {},
   "outputs": [
    {
     "name": "stdout",
     "output_type": "stream",
     "text": [
      "\n",
      "Total searchable tickers balance sheet: 3130\n",
      "\n",
      "Total searchable tickers income statement: 3129\n",
      "\n",
      "Total searchable tickers cash flow statement: 3129\n",
      "\n"
     ]
    }
   ],
   "source": [
    "# Total tickers to query the EDGAR API \n",
    "print('\\n' + 'Total searchable tickers balance sheet: ' + str(len(searchable_tickers)) + '\\n')\n",
    "print('Total searchable tickers income statement: ' + str(len(searchable_tickers_in)) + '\\n')\n",
    "print('Total searchable tickers cash flow statement: ' + str(len(searchable_tickers_cf)) + '\\n')"
   ]
  },
  {
   "cell_type": "markdown",
   "metadata": {},
   "source": [
    "There is a difference of one between the two lists of searchable stock tickers, the lesser will be used to retain consistency of the data.<br>"
   ]
  },
  {
   "cell_type": "code",
   "execution_count": 46,
   "metadata": {},
   "outputs": [
    {
     "name": "stdout",
     "output_type": "stream",
     "text": [
      "\n",
      "\n",
      "<class 'pandas.core.frame.DataFrame'>\n",
      "Int64Index: 3129 entries, 0 to 3128\n",
      "Data columns (total 2 columns):\n",
      " #   Column   Non-Null Count  Dtype \n",
      "---  ------   --------------  ----- \n",
      " 0   tickers  3129 non-null   object\n",
      " 1   name     3129 non-null   object\n",
      "dtypes: object(2)\n",
      "memory usage: 73.3+ KB\n"
     ]
    },
    {
     "data": {
      "text/html": [
       "<div>\n",
       "<style scoped>\n",
       "    .dataframe tbody tr th:only-of-type {\n",
       "        vertical-align: middle;\n",
       "    }\n",
       "\n",
       "    .dataframe tbody tr th {\n",
       "        vertical-align: top;\n",
       "    }\n",
       "\n",
       "    .dataframe thead th {\n",
       "        text-align: right;\n",
       "    }\n",
       "</style>\n",
       "<table border=\"1\" class=\"dataframe\">\n",
       "  <thead>\n",
       "    <tr style=\"text-align: right;\">\n",
       "      <th></th>\n",
       "      <th>tickers</th>\n",
       "      <th>name</th>\n",
       "    </tr>\n",
       "  </thead>\n",
       "  <tbody>\n",
       "    <tr>\n",
       "      <th>0</th>\n",
       "      <td>A</td>\n",
       "      <td>Agilent Technologies Inc.</td>\n",
       "    </tr>\n",
       "    <tr>\n",
       "      <th>1</th>\n",
       "      <td>AA</td>\n",
       "      <td>Alcoa Corp</td>\n",
       "    </tr>\n",
       "    <tr>\n",
       "      <th>2</th>\n",
       "      <td>AAL</td>\n",
       "      <td>American Airlines Group Inc</td>\n",
       "    </tr>\n",
       "    <tr>\n",
       "      <th>3</th>\n",
       "      <td>AAME</td>\n",
       "      <td>Atlantic American Corp.</td>\n",
       "    </tr>\n",
       "    <tr>\n",
       "      <th>4</th>\n",
       "      <td>AAOI</td>\n",
       "      <td>Applied Optoelectronics Inc</td>\n",
       "    </tr>\n",
       "  </tbody>\n",
       "</table>\n",
       "</div>"
      ],
      "text/plain": [
       "  tickers                         name\n",
       "0       A    Agilent Technologies Inc.\n",
       "1      AA                   Alcoa Corp\n",
       "2     AAL  American Airlines Group Inc\n",
       "3    AAME      Atlantic American Corp.\n",
       "4    AAOI  Applied Optoelectronics Inc"
      ]
     },
     "execution_count": 46,
     "metadata": {},
     "output_type": "execute_result"
    }
   ],
   "source": [
    "# Merge searchable ticker results to one data frame\n",
    "data = searchable_tickers_in_data.merge(searchable_tickers_data, on = 'tickers')\n",
    "data = data.merge(searchable_tickers_cf_data, on = 'tickers')\n",
    "wil_df.columns = ['tickers', 'name']\n",
    "data = data.merge(wil_df, on = 'tickers')\n",
    "\n",
    "# Print data summary\n",
    "print('\\n')\n",
    "data.info()\n",
    "data.head()"
   ]
  },
  {
   "cell_type": "markdown",
   "metadata": {},
   "source": [
    "### API Query Functions"
   ]
  },
  {
   "cell_type": "code",
   "execution_count": 55,
   "metadata": {},
   "outputs": [],
   "source": [
    "# Function to query EDGAR API for company annual balance sheet data over 20 years (2000-2019)\n",
    "def fin_1(stock, company):\n",
    "\n",
    "    url = \"https://datafied.api.edgar-online.com/v2/corefinancials/ann\"\n",
    "    query = {\"appkey\": appkey,\n",
    "             \"fields\": \"BalanceSheetConsolidated\",\n",
    "             \"primarysymbols\": stock,\"numperiods\": \"20\",}\n",
    "\n",
    "    response = requests.get(url, query)\n",
    "    data = response.json()\n",
    "    data = data[\"result\"]\n",
    "    data = data[\"rows\"]\n",
    "    data = [x[\"values\"] for x in data]\n",
    "\n",
    "    year = 2020\n",
    "    flat_list = []\n",
    "    \n",
    "    for sublist in data:\n",
    "        year -= 1\n",
    "        for item in sublist:\n",
    "            item.update({\"year\":year})\n",
    "            flat_list.append(item)\n",
    "\n",
    "    data = pd.DataFrame(flat_list)\n",
    "    data[\"ticker\"] = stock\n",
    "    data['name'] = company\n",
    "    data['statement'] = 'BalanceSheet'\n",
    "    data.columns = [\"field\", \"value\", \"year\", \"company_ticker\", \"company_name\", 'statement']\n",
    "    data = data[['year','company_ticker','company_name','statement','field','value']]\n",
    "\n",
    "    return data"
   ]
  },
  {
   "cell_type": "code",
   "execution_count": 56,
   "metadata": {},
   "outputs": [],
   "source": [
    "# Function to query EDGAR API for company annual income statement data over 20 years (2000-2019)\n",
    "def fin_2(stock, company):\n",
    "\n",
    "    url = \"https://datafied.api.edgar-online.com/v2/corefinancials/ann\"\n",
    "    query = {\"appkey\": appkey,\n",
    "             \"fields\": \"IncomeStatementConsolidated\",\n",
    "             \"primarysymbols\": stock,\"numperiods\": \"20\",}\n",
    "\n",
    "    response = requests.get(url, query)\n",
    "    data = response.json()\n",
    "    data = data[\"result\"]\n",
    "    data = data[\"rows\"]\n",
    "    data = [x[\"values\"] for x in data]\n",
    "\n",
    "    year = 2020\n",
    "    flat_list = []\n",
    "    \n",
    "    for sublist in data:\n",
    "        year -= 1\n",
    "        for item in sublist:\n",
    "            item.update({\"year\":year})\n",
    "            flat_list.append(item)\n",
    "\n",
    "    data = pd.DataFrame(flat_list)\n",
    "    data[\"ticker\"] = stock\n",
    "    data['name'] = company\n",
    "    data['statement'] = 'IncomeStatement'\n",
    "    data.columns = [\"field\", \"value\", \"year\", \"company_ticker\", \"company_name\", 'statement']\n",
    "    data = data[['year','company_ticker','company_name','statement','field','value']]\n",
    "\n",
    "    return data"
   ]
  },
  {
   "cell_type": "code",
   "execution_count": 57,
   "metadata": {},
   "outputs": [],
   "source": [
    "# Function to query EDGAR API for company annual cash flow statement data over 20 years (2000-2019)\n",
    "def fin_3(stock, company):\n",
    "\n",
    "    url = \"https://datafied.api.edgar-online.com/v2/corefinancials/ann\"\n",
    "    query = {\"appkey\": appkey,\n",
    "             \"fields\": \"CashFlowStatementConsolidated\",\n",
    "             \"primarysymbols\": stock,\"numperiods\": \"20\",}\n",
    "\n",
    "    response = requests.get(url, query)\n",
    "    data = response.json()\n",
    "    data = data[\"result\"]\n",
    "    data = data[\"rows\"]\n",
    "    data = [x[\"values\"] for x in data]\n",
    "\n",
    "    year = 2020\n",
    "    flat_list = []\n",
    "    \n",
    "    for sublist in data:\n",
    "        year -= 1\n",
    "        for item in sublist:\n",
    "            item.update({\"year\":year})\n",
    "            flat_list.append(item)\n",
    "\n",
    "    data = pd.DataFrame(flat_list)\n",
    "    data[\"ticker\"] = stock\n",
    "    data['name'] = company\n",
    "    data['statement'] = 'CashFlowStatement'\n",
    "    data.columns = [\"field\", \"value\", \"year\", \"company_ticker\", \"company_name\", 'statement']\n",
    "    data = data[['year','company_ticker','company_name','statement','field','value']]\n",
    "\n",
    "    return data"
   ]
  },
  {
   "cell_type": "markdown",
   "metadata": {},
   "source": [
    "Two functions to query and return 20 years of balance sheet, income statement, and cash flow data. <br>"
   ]
  },
  {
   "cell_type": "markdown",
   "metadata": {},
   "source": [
    "### API Query Loops"
   ]
  },
  {
   "cell_type": "code",
   "execution_count": 63,
   "metadata": {},
   "outputs": [
    {
     "data": {
      "application/vnd.jupyter.widget-view+json": {
       "model_id": "bb044113414f4114be9a7be541985fe7",
       "version_major": 2,
       "version_minor": 0
      },
      "text/plain": [
       "VBox(children=(HTML(value=''), IntProgress(value=0, max=3129)))"
      ]
     },
     "metadata": {},
     "output_type": "display_data"
    },
    {
     "name": "stdout",
     "output_type": "stream",
     "text": [
      "\n",
      "\n"
     ]
    },
    {
     "data": {
      "text/html": [
       "<div>\n",
       "<style scoped>\n",
       "    .dataframe tbody tr th:only-of-type {\n",
       "        vertical-align: middle;\n",
       "    }\n",
       "\n",
       "    .dataframe tbody tr th {\n",
       "        vertical-align: top;\n",
       "    }\n",
       "\n",
       "    .dataframe thead th {\n",
       "        text-align: right;\n",
       "    }\n",
       "</style>\n",
       "<table border=\"1\" class=\"dataframe\">\n",
       "  <thead>\n",
       "    <tr style=\"text-align: right;\">\n",
       "      <th></th>\n",
       "      <th>year</th>\n",
       "      <th>company_ticker</th>\n",
       "      <th>company_name</th>\n",
       "      <th>statement</th>\n",
       "      <th>field</th>\n",
       "      <th>value</th>\n",
       "    </tr>\n",
       "  </thead>\n",
       "  <tbody>\n",
       "    <tr>\n",
       "      <th>0</th>\n",
       "      <td>2019</td>\n",
       "      <td>A</td>\n",
       "      <td>Agilent Technologies Inc.</td>\n",
       "      <td>BalanceSheet</td>\n",
       "      <td>accountspayableandaccruedexpenses</td>\n",
       "      <td>1.006000e+09</td>\n",
       "    </tr>\n",
       "    <tr>\n",
       "      <th>1</th>\n",
       "      <td>2019</td>\n",
       "      <td>A</td>\n",
       "      <td>Agilent Technologies Inc.</td>\n",
       "      <td>BalanceSheet</td>\n",
       "      <td>additionalpaidincapital</td>\n",
       "      <td>5.311000e+09</td>\n",
       "    </tr>\n",
       "    <tr>\n",
       "      <th>2</th>\n",
       "      <td>2019</td>\n",
       "      <td>A</td>\n",
       "      <td>Agilent Technologies Inc.</td>\n",
       "      <td>BalanceSheet</td>\n",
       "      <td>cashandcashequivalents</td>\n",
       "      <td>1.441000e+09</td>\n",
       "    </tr>\n",
       "    <tr>\n",
       "      <th>3</th>\n",
       "      <td>2019</td>\n",
       "      <td>A</td>\n",
       "      <td>Agilent Technologies Inc.</td>\n",
       "      <td>BalanceSheet</td>\n",
       "      <td>cashcashequivalentsandshortterminvestments</td>\n",
       "      <td>1.441000e+09</td>\n",
       "    </tr>\n",
       "    <tr>\n",
       "      <th>4</th>\n",
       "      <td>2019</td>\n",
       "      <td>A</td>\n",
       "      <td>Agilent Technologies Inc.</td>\n",
       "      <td>BalanceSheet</td>\n",
       "      <td>commonstock</td>\n",
       "      <td>3.000000e+06</td>\n",
       "    </tr>\n",
       "  </tbody>\n",
       "</table>\n",
       "</div>"
      ],
      "text/plain": [
       "   year company_ticker               company_name     statement  \\\n",
       "0  2019              A  Agilent Technologies Inc.  BalanceSheet   \n",
       "1  2019              A  Agilent Technologies Inc.  BalanceSheet   \n",
       "2  2019              A  Agilent Technologies Inc.  BalanceSheet   \n",
       "3  2019              A  Agilent Technologies Inc.  BalanceSheet   \n",
       "4  2019              A  Agilent Technologies Inc.  BalanceSheet   \n",
       "\n",
       "                                        field         value  \n",
       "0           accountspayableandaccruedexpenses  1.006000e+09  \n",
       "1                     additionalpaidincapital  5.311000e+09  \n",
       "2                      cashandcashequivalents  1.441000e+09  \n",
       "3  cashcashequivalentsandshortterminvestments  1.441000e+09  \n",
       "4                                 commonstock  3.000000e+06  "
      ]
     },
     "execution_count": 63,
     "metadata": {},
     "output_type": "execute_result"
    }
   ],
   "source": [
    "# List of tickers\n",
    "tickers = data['tickers'].tolist()\n",
    "# List of company names\n",
    "companies = data['name'].tolist()\n",
    "\n",
    "# List of queried company data\n",
    "company_data = []\n",
    "\n",
    "# While loop to loop through the searchable_tickers list and query the EDGAR API and return \n",
    "# annual balance sheet, income, and cash flow statement data over 20 years (2000-2019)\n",
    "for ticker, company in zip(log_progress(tickers), companies): \n",
    "    try:\n",
    "        result1 = fin_1(ticker, company)\n",
    "        result2 = fin_2(ticker, company)\n",
    "        result3 = fin_3(ticker, company)\n",
    "        company_data.append(result1)\n",
    "        company_data.append(result2)\n",
    "        company_data.append(result3)\n",
    "    except:\n",
    "        break\n",
    "\n",
    "# Convert company_data list to data frame   \n",
    "df = pd.concat(company_data)\n",
    "\n",
    "# Print data summary\n",
    "print('\\n')\n",
    "df.head()"
   ]
  },
  {
   "cell_type": "markdown",
   "metadata": {},
   "source": [
    "For loops are used to loop through the list of 3,129 stock tickers and query the EDGAR API to return 20 years of balance sheet, income statement, and cash flow data for every company. The data is converted into a data frame.<br><br> "
   ]
  },
  {
   "cell_type": "code",
   "execution_count": 64,
   "metadata": {},
   "outputs": [],
   "source": [
    "# Export dsp_df data frame to project data directory\n",
    "df.to_csv('Data/2000_2019_Wilshire_5000_Financials.csv', sep = ',', encoding = 'utf-8')"
   ]
  },
  {
   "cell_type": "markdown",
   "metadata": {},
   "source": [
    "The final data frame is exported to the project directory for further exploratory data analysis.<br>"
   ]
  }
 ],
 "metadata": {
  "hide_input": false,
  "kernelspec": {
   "display_name": "Python 3",
   "language": "python",
   "name": "python3"
  },
  "language_info": {
   "codemirror_mode": {
    "name": "ipython",
    "version": 3
   },
   "file_extension": ".py",
   "mimetype": "text/x-python",
   "name": "python",
   "nbconvert_exporter": "python",
   "pygments_lexer": "ipython3",
   "version": "3.8.5"
  },
  "toc": {
   "base_numbering": 1,
   "nav_menu": {},
   "number_sections": true,
   "sideBar": true,
   "skip_h1_title": false,
   "title_cell": "Table of Contents",
   "title_sidebar": "Contents",
   "toc_cell": false,
   "toc_position": {
    "height": "calc(100% - 180px)",
    "left": "10px",
    "top": "150px",
    "width": "260px"
   },
   "toc_section_display": true,
   "toc_window_display": true
  }
 },
 "nbformat": 4,
 "nbformat_minor": 2
}
