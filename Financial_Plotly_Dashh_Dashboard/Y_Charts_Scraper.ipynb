{
 "cells": [
  {
   "cell_type": "markdown",
   "metadata": {},
   "source": [
    "# Y Charts Scraper\n",
    "\n",
    "## Project Description:\n",
    "\n",
    "The below code seeks to scrape 20 years of historical shares outstanding data from 2000 - 2019 from https://ycharts.com/. The data will be leveraged in a stock data dashboard."
   ]
  },
  {
   "cell_type": "code",
   "execution_count": 1,
   "metadata": {},
   "outputs": [],
   "source": [
    "# Import packages\n",
    "import numpy as np\n",
    "import pandas as pd\n",
    "import re\n",
    "from bs4 import BeautifulSoup as bs\n",
    "import requests\n",
    "from time import sleep\n",
    "from ipynb.fs.full.Preprocessing_Functions import *"
   ]
  },
  {
   "cell_type": "code",
   "execution_count": 2,
   "metadata": {},
   "outputs": [
    {
     "name": "stdout",
     "output_type": "stream",
     "text": [
      "\n",
      "\n",
      "<class 'pandas.core.frame.DataFrame'>\n",
      "RangeIndex: 3222 entries, 0 to 3221\n",
      "Data columns (total 2 columns):\n",
      " #   Column  Non-Null Count  Dtype \n",
      "---  ------  --------------  ----- \n",
      " 0   Ticker  3222 non-null   object\n",
      " 1   Name    3222 non-null   object\n",
      "dtypes: object(2)\n",
      "memory usage: 50.5+ KB\n"
     ]
    },
    {
     "data": {
      "text/html": [
       "<div>\n",
       "<style scoped>\n",
       "    .dataframe tbody tr th:only-of-type {\n",
       "        vertical-align: middle;\n",
       "    }\n",
       "\n",
       "    .dataframe tbody tr th {\n",
       "        vertical-align: top;\n",
       "    }\n",
       "\n",
       "    .dataframe thead th {\n",
       "        text-align: right;\n",
       "    }\n",
       "</style>\n",
       "<table border=\"1\" class=\"dataframe\">\n",
       "  <thead>\n",
       "    <tr style=\"text-align: right;\">\n",
       "      <th></th>\n",
       "      <th>Ticker</th>\n",
       "      <th>Name</th>\n",
       "    </tr>\n",
       "  </thead>\n",
       "  <tbody>\n",
       "    <tr>\n",
       "      <th>0</th>\n",
       "      <td>A</td>\n",
       "      <td>Agilent Technologies Inc.</td>\n",
       "    </tr>\n",
       "    <tr>\n",
       "      <th>1</th>\n",
       "      <td>AA</td>\n",
       "      <td>Alcoa Corp</td>\n",
       "    </tr>\n",
       "    <tr>\n",
       "      <th>2</th>\n",
       "      <td>AAL</td>\n",
       "      <td>American Airlines Group Inc</td>\n",
       "    </tr>\n",
       "    <tr>\n",
       "      <th>3</th>\n",
       "      <td>AAME</td>\n",
       "      <td>Atlantic American Corp.</td>\n",
       "    </tr>\n",
       "    <tr>\n",
       "      <th>4</th>\n",
       "      <td>AAN</td>\n",
       "      <td>Aarons Company Inc (The)</td>\n",
       "    </tr>\n",
       "  </tbody>\n",
       "</table>\n",
       "</div>"
      ],
      "text/plain": [
       "  Ticker                         Name\n",
       "0      A    Agilent Technologies Inc.\n",
       "1     AA                   Alcoa Corp\n",
       "2    AAL  American Airlines Group Inc\n",
       "3   AAME      Atlantic American Corp.\n",
       "4    AAN     Aarons Company Inc (The)"
      ]
     },
     "execution_count": 2,
     "metadata": {},
     "output_type": "execute_result"
    }
   ],
   "source": [
    "# Import a list of stock tickers\n",
    "wil_df_fin = pd.read_csv('Data/Wilshire_5000_All_Holdings.csv')\n",
    "\n",
    "# Check data Summary\n",
    "print('\\n')\n",
    "wil_df_fin.info(null_counts = True)\n",
    "wil_df_fin.head()"
   ]
  },
  {
   "cell_type": "code",
   "execution_count": 3,
   "metadata": {},
   "outputs": [
    {
     "name": "stdout",
     "output_type": "stream",
     "text": [
      "<Response [200]>\n"
     ]
    }
   ],
   "source": [
    "# Set headers\n",
    "headers = {'User-Agent': 'Mozilla/5.0 (Macintosh; Intel Mac OS X 10_15_7) AppleWebKit/537.36 (KHTML, like Gecko) Chrome/88.0.4324.150 Safari/537.36',\n",
    "           'origin': 'https://ycharts.com',\n",
    "           'referer': 'https://ycharts.com/login?next=/dashboard/'}\n",
    "\n",
    "# Set login data\n",
    "login_data = {'username': 'appdata4563626@gmail.com',\n",
    "              'password': 'BigRed1993!'}\n",
    "\n",
    "# Set login session\n",
    "session = requests.Session()\n",
    "url = 'https://ycharts.com/login?next=/dashboard/'\n",
    "r = session.get(url)\n",
    "soup = bs(r.content, 'html.parser')\n",
    "login_data['csrfmiddlewaretoken'] = soup.find('input', attrs = {'name': 'csrfmiddlewaretoken'})['value']\n",
    "r = session.post(url, data = login_data, headers = headers)\n",
    "\n",
    "print(r)"
   ]
  },
  {
   "cell_type": "markdown",
   "metadata": {},
   "source": [
    "## Shares Outstanding"
   ]
  },
  {
   "cell_type": "code",
   "execution_count": 23,
   "metadata": {},
   "outputs": [
    {
     "data": {
      "application/vnd.jupyter.widget-view+json": {
       "model_id": "d85c02973d854b0e9c18f3ef330b1222",
       "version_major": 2,
       "version_minor": 0
      },
      "text/plain": [
       "VBox(children=(HTML(value=''), IntProgress(value=0, max=3222)))"
      ]
     },
     "metadata": {},
     "output_type": "display_data"
    },
    {
     "name": "stdout",
     "output_type": "stream",
     "text": [
      "\n",
      "\n",
      "<class 'pandas.core.frame.DataFrame'>\n",
      "Int64Index: 61238 entries, 0 to 20\n",
      "Data columns (total 3 columns):\n",
      " #   Column              Non-Null Count  Dtype \n",
      "---  ------              --------------  ----- \n",
      " 0   ticker              61238 non-null  object\n",
      " 1   date                61238 non-null  object\n",
      " 2   shares_outstanding  61238 non-null  object\n",
      "dtypes: object(3)\n",
      "memory usage: 1.9+ MB\n"
     ]
    },
    {
     "data": {
      "text/html": [
       "<div>\n",
       "<style scoped>\n",
       "    .dataframe tbody tr th:only-of-type {\n",
       "        vertical-align: middle;\n",
       "    }\n",
       "\n",
       "    .dataframe tbody tr th {\n",
       "        vertical-align: top;\n",
       "    }\n",
       "\n",
       "    .dataframe thead th {\n",
       "        text-align: right;\n",
       "    }\n",
       "</style>\n",
       "<table border=\"1\" class=\"dataframe\">\n",
       "  <thead>\n",
       "    <tr style=\"text-align: right;\">\n",
       "      <th></th>\n",
       "      <th>ticker</th>\n",
       "      <th>date</th>\n",
       "      <th>shares_outstanding</th>\n",
       "    </tr>\n",
       "  </thead>\n",
       "  <tbody>\n",
       "    <tr>\n",
       "      <th>0</th>\n",
       "      <td>A</td>\n",
       "      <td>2020</td>\n",
       "      <td>312.00M</td>\n",
       "    </tr>\n",
       "    <tr>\n",
       "      <th>1</th>\n",
       "      <td>A</td>\n",
       "      <td>2019</td>\n",
       "      <td>318.00M</td>\n",
       "    </tr>\n",
       "    <tr>\n",
       "      <th>2</th>\n",
       "      <td>A</td>\n",
       "      <td>2018</td>\n",
       "      <td>325.00M</td>\n",
       "    </tr>\n",
       "    <tr>\n",
       "      <th>3</th>\n",
       "      <td>A</td>\n",
       "      <td>2017</td>\n",
       "      <td>326.00M</td>\n",
       "    </tr>\n",
       "    <tr>\n",
       "      <th>4</th>\n",
       "      <td>A</td>\n",
       "      <td>2016</td>\n",
       "      <td>329.00M</td>\n",
       "    </tr>\n",
       "  </tbody>\n",
       "</table>\n",
       "</div>"
      ],
      "text/plain": [
       "  ticker  date shares_outstanding\n",
       "0      A  2020            312.00M\n",
       "1      A  2019            318.00M\n",
       "2      A  2018            325.00M\n",
       "3      A  2017            326.00M\n",
       "4      A  2016            329.00M"
      ]
     },
     "execution_count": 23,
     "metadata": {},
     "output_type": "execute_result"
    }
   ],
   "source": [
    "# Set ticker list\n",
    "ticker_list = list(wil_df_fin['Ticker'])\n",
    "# Set df list of different stock tickers\n",
    "df_list = []\n",
    "\n",
    "# Scrape for stock data\n",
    "for ticker in log_progress(ticker_list):\n",
    "    url = 'https://ycharts.com/companies/{}/average_shares_outs_diluted_annual'.format(ticker)\n",
    "    s = session.get(url) \n",
    "    soup = bs(s.text, 'html.parser') \n",
    "\n",
    "    data = soup.select('td')\n",
    "    data = [x.get_text().strip() for x in data]\n",
    "    data_date = data[0:42]\n",
    "    data = data[1:42]\n",
    "\n",
    "    # Returns every second element\n",
    "    def altElement(a):\n",
    "        return a[::2]\n",
    "\n",
    "    # Split list of data into two separate by returning every second element of data in lists\n",
    "    data_date = altElement(data_date)\n",
    "    data = altElement(data)\n",
    "\n",
    "    # Keeps the last four characters of string data\n",
    "    date_list = []\n",
    "    for date in data_date:\n",
    "        date = date[-4:]\n",
    "        date_list.append(date)\n",
    "\n",
    "    # Creates column of specific ticker\n",
    "    ticker_list = []\n",
    "    for tickers in date_list:\n",
    "        ticker_list.append(ticker)\n",
    "    \n",
    "    # Create data frame\n",
    "    df = pd.DataFrame(list(zip(ticker_list, date_list, data)), columns = ['ticker', 'date', 'shares_outstanding'])\n",
    "    # Append data frame to df list\n",
    "    df_list.append(df)\n",
    "    \n",
    "    # Sleep between iterations for two seconds\n",
    "    #sleep(2)\n",
    "    \n",
    "# Concatenate stock data            \n",
    "shares_outstanding_df = pd.concat(df_list)     \n",
    "\n",
    "# Print data summary\n",
    "print('\\n')\n",
    "shares_outstanding_df.info()\n",
    "shares_outstanding_df.head()"
   ]
  },
  {
   "cell_type": "code",
   "execution_count": 24,
   "metadata": {},
   "outputs": [
    {
     "name": "stdout",
     "output_type": "stream",
     "text": [
      "\n",
      "\n",
      "<class 'pandas.core.frame.DataFrame'>\n",
      "Int64Index: 58693 entries, 1 to 20\n",
      "Data columns (total 3 columns):\n",
      " #   Column              Non-Null Count  Dtype \n",
      "---  ------              --------------  ----- \n",
      " 0   ticker              58693 non-null  object\n",
      " 1   date                58693 non-null  object\n",
      " 2   shares_outstanding  58693 non-null  object\n",
      "dtypes: object(3)\n",
      "memory usage: 1.8+ MB\n"
     ]
    },
    {
     "data": {
      "text/html": [
       "<div>\n",
       "<style scoped>\n",
       "    .dataframe tbody tr th:only-of-type {\n",
       "        vertical-align: middle;\n",
       "    }\n",
       "\n",
       "    .dataframe tbody tr th {\n",
       "        vertical-align: top;\n",
       "    }\n",
       "\n",
       "    .dataframe thead th {\n",
       "        text-align: right;\n",
       "    }\n",
       "</style>\n",
       "<table border=\"1\" class=\"dataframe\">\n",
       "  <thead>\n",
       "    <tr style=\"text-align: right;\">\n",
       "      <th></th>\n",
       "      <th>ticker</th>\n",
       "      <th>date</th>\n",
       "      <th>shares_outstanding</th>\n",
       "    </tr>\n",
       "  </thead>\n",
       "  <tbody>\n",
       "    <tr>\n",
       "      <th>1</th>\n",
       "      <td>A</td>\n",
       "      <td>2019</td>\n",
       "      <td>318.00M</td>\n",
       "    </tr>\n",
       "    <tr>\n",
       "      <th>2</th>\n",
       "      <td>A</td>\n",
       "      <td>2018</td>\n",
       "      <td>325.00M</td>\n",
       "    </tr>\n",
       "    <tr>\n",
       "      <th>3</th>\n",
       "      <td>A</td>\n",
       "      <td>2017</td>\n",
       "      <td>326.00M</td>\n",
       "    </tr>\n",
       "    <tr>\n",
       "      <th>4</th>\n",
       "      <td>A</td>\n",
       "      <td>2016</td>\n",
       "      <td>329.00M</td>\n",
       "    </tr>\n",
       "    <tr>\n",
       "      <th>5</th>\n",
       "      <td>A</td>\n",
       "      <td>2015</td>\n",
       "      <td>335.00M</td>\n",
       "    </tr>\n",
       "  </tbody>\n",
       "</table>\n",
       "</div>"
      ],
      "text/plain": [
       "  ticker  date shares_outstanding\n",
       "1      A  2019            318.00M\n",
       "2      A  2018            325.00M\n",
       "3      A  2017            326.00M\n",
       "4      A  2016            329.00M\n",
       "5      A  2015            335.00M"
      ]
     },
     "execution_count": 24,
     "metadata": {},
     "output_type": "execute_result"
    }
   ],
   "source": [
    "# Filter out date 2020\n",
    "shares_outstanding_df = shares_outstanding_df.loc[shares_outstanding_df['date'] != '2020']\n",
    "\n",
    "# Print data summary\n",
    "print('\\n')\n",
    "shares_outstanding_df.info()\n",
    "shares_outstanding_df.head()"
   ]
  },
  {
   "cell_type": "code",
   "execution_count": 25,
   "metadata": {},
   "outputs": [],
   "source": [
    "# Export data to project directory\n",
    "shares_outstanding_df.to_csv('Data/Shares_Outstanding.csv')"
   ]
  }
 ],
 "metadata": {
  "hide_input": false,
  "kernelspec": {
   "display_name": "Python 3",
   "language": "python",
   "name": "python3"
  },
  "language_info": {
   "codemirror_mode": {
    "name": "ipython",
    "version": 3
   },
   "file_extension": ".py",
   "mimetype": "text/x-python",
   "name": "python",
   "nbconvert_exporter": "python",
   "pygments_lexer": "ipython3",
   "version": "3.8.5"
  },
  "toc": {
   "base_numbering": 1,
   "nav_menu": {},
   "number_sections": true,
   "sideBar": true,
   "skip_h1_title": false,
   "title_cell": "Table of Contents",
   "title_sidebar": "Contents",
   "toc_cell": false,
   "toc_position": {
    "height": "calc(100% - 180px)",
    "left": "10px",
    "top": "150px",
    "width": "236px"
   },
   "toc_section_display": true,
   "toc_window_display": true
  }
 },
 "nbformat": 4,
 "nbformat_minor": 4
}
